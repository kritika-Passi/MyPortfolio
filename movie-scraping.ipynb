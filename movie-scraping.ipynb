{
  "nbformat": 4,
  "nbformat_minor": 0,
  "metadata": {
    "colab": {
      "provenance": [],
      "authorship_tag": "ABX9TyO7AydMaw+0jQtg1pR6ViF/",
      "include_colab_link": true
    },
    "kernelspec": {
      "name": "python3",
      "display_name": "Python 3"
    },
    "language_info": {
      "name": "python"
    }
  },
  "cells": [
    {
      "cell_type": "markdown",
      "metadata": {
        "id": "view-in-github",
        "colab_type": "text"
      },
      "source": [
        "<a href=\"https://colab.research.google.com/github/kritika-Passi/MyPortfolio/blob/main/movie-scraping.ipynb\" target=\"_parent\"><img src=\"https://colab.research.google.com/assets/colab-badge.svg\" alt=\"Open In Colab\"/></a>"
      ]
    },
    {
      "cell_type": "code",
      "execution_count": 1,
      "metadata": {
        "id": "rD7UA4O9EP1n"
      },
      "outputs": [],
      "source": [
        "from bs4 import BeautifulSoup\n",
        "import requests\n",
        "import csv\n"
      ]
    },
    {
      "cell_type": "code",
      "source": [
        "url = \"https://www.amazon.com/Furiosa-Mad-Saga-Ultra-Digital/dp/B0D3VHPLW1/?_encoding=UTF8&pd_rd_w=iMabI&content-id=amzn1.sym.41f1b87d-2e7a-4fe4-bfcc-e038cab8f79e&pf_rd_p=41f1b87d-2e7a-4fe4-bfcc-e038cab8f79e&pf_rd_r=1HB3BJXBZFF0VR1ZQM8D&pd_rd_wg=tmogn&pd_rd_r=50298f89-9127-4863-be25-48b35b9e8888&ref_=pd_hp_d_btf_crs_zg_bs_2625373011\""
      ],
      "metadata": {
        "id": "to4gqwyXx2cu"
      },
      "execution_count": 2,
      "outputs": []
    },
    {
      "cell_type": "code",
      "source": [
        "page_to_parse = requests.get(url)\n",
        "soup = BeautifulSoup(page_to_parse.text, 'html.parser')"
      ],
      "metadata": {
        "id": "TW1FxxgBx7Ov"
      },
      "execution_count": 3,
      "outputs": []
    },
    {
      "cell_type": "code",
      "source": [
        "#getting the movie title\n",
        "product_title = soup.find(id=\"productTitle\")\n",
        "product_title.get_text().strip()\n"
      ],
      "metadata": {
        "colab": {
          "base_uri": "https://localhost:8080/",
          "height": 36
        },
        "id": "RkMmK48aztEK",
        "outputId": "86fe7640-03f5-4c34-d36d-e7693601b492"
      },
      "execution_count": 4,
      "outputs": [
        {
          "output_type": "execute_result",
          "data": {
            "text/plain": [
              "'Furiosa: A Mad Max Saga (4K Ultra HD + Digital)'"
            ],
            "application/vnd.google.colaboratory.intrinsic+json": {
              "type": "string"
            }
          },
          "metadata": {},
          "execution_count": 4
        }
      ]
    },
    {
      "cell_type": "code",
      "source": [
        "#fetching the movie rating\n",
        "tag = soup.find(\"div\" , id = \"averageCustomerReviews\")\n",
        "reviews = tag.find(\"span\",class_ =\"a-size-base a-color-base\")\n",
        "print(reviews.get_text().strip())\n",
        ""
      ],
      "metadata": {
        "colab": {
          "base_uri": "https://localhost:8080/"
        },
        "id": "snB86SqxqCCH",
        "outputId": "121dc7b7-7623-4a1c-ba2a-416dac79db1a"
      },
      "execution_count": 5,
      "outputs": [
        {
          "output_type": "stream",
          "name": "stdout",
          "text": [
            "4.3\n"
          ]
        }
      ]
    },
    {
      "cell_type": "code",
      "source": [
        "#fetching the genre of the movie\n",
        "dtag = soup.find(\"div\" , id = \"productOverview_feature_div\")\n",
        "product_overview = dtag.find_all(\"span\" , class_ = \"a-size-base po-break-word\")\n",
        "po_list = []\n",
        "for i in product_overview:\n",
        "  overview = i.get_text().strip()\n",
        "  po_list.append(overview)\n",
        "\n",
        "genre, format, actors, lang, time = po_list\n",
        "print(f\"Genre : {genre}\")\n",
        "print(f\"Format : {format}\")\n",
        "print(f\"Actors : {actors}\")\n",
        "print(f\"language : {lang}\")\n",
        "print(f\"time : {time}\")"
      ],
      "metadata": {
        "colab": {
          "base_uri": "https://localhost:8080/"
        },
        "id": "AqgIEpG5QpN8",
        "outputId": "3356ce4f-9efd-4194-9ad3-d077728de494"
      },
      "execution_count": 6,
      "outputs": [
        {
          "output_type": "stream",
          "name": "stdout",
          "text": [
            "Genre : Action Adventure, Science Fiction\n",
            "Format : 4K, Subtitled\n",
            "Actors : Chris Hemsworth, Alyla Browne, Anya Taylor-Joy, Tom Burke, George Miller\n",
            "language : English\n",
            "time : 2 hours and 28 minutes\n"
          ]
        }
      ]
    },
    {
      "cell_type": "code",
      "source": [
        "with open(\"movie-review.csv\", \"w\") as file:\n",
        "  writer = csv.writer(file)\n",
        "  writer.writerow(['NAME' , 'RATINGS' , 'GENRE' , 'FORMAT' , 'ACTORS', 'LANGUAGE', 'TIME'])\n",
        "  for n, r in zip(product_title, reviews):\n",
        "    writer.writerow([n.get_text().strip(), r.get_text().strip() , genre, format, actors, lang, time])"
      ],
      "metadata": {
        "id": "j-QYoPaU58k0"
      },
      "execution_count": 10,
      "outputs": []
    },
    {
      "cell_type": "code",
      "source": [],
      "metadata": {
        "id": "go6mvR-g7yJw"
      },
      "execution_count": null,
      "outputs": []
    }
  ]
}