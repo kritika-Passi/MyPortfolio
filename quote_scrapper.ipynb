{
  "nbformat": 4,
  "nbformat_minor": 0,
  "metadata": {
    "colab": {
      "provenance": [],
      "authorship_tag": "ABX9TyP07n5XhuZRpF4c4zdYAUMg",
      "include_colab_link": true
    },
    "kernelspec": {
      "name": "python3",
      "display_name": "Python 3"
    },
    "language_info": {
      "name": "python"
    }
  },
  "cells": [
    {
      "cell_type": "markdown",
      "metadata": {
        "id": "view-in-github",
        "colab_type": "text"
      },
      "source": [
        "<a href=\"https://colab.research.google.com/github/kritika-Passi/MyPortfolio/blob/main/quote_scrapper.ipynb\" target=\"_parent\"><img src=\"https://colab.research.google.com/assets/colab-badge.svg\" alt=\"Open In Colab\"/></a>"
      ]
    },
    {
      "cell_type": "code",
      "execution_count": 1,
      "metadata": {
        "id": "scmn3EqXih8M"
      },
      "outputs": [],
      "source": [
        "#importing modules\n",
        "from bs4 import BeautifulSoup\n",
        "import requests\n",
        "import pandas as pd\n",
        "import datetime\n",
        "import csv\n",
        "import random\n",
        "import smtplib"
      ]
    },
    {
      "cell_type": "code",
      "source": [
        "def quote_scrape():\n",
        "  URL = \"https://www.forbesindia.com/article/explainers/motivational-quotes/84853/1\"\n",
        "  page_to_parse = requests.get(URL)\n",
        "  soup = BeautifulSoup(page_to_parse.text, \"html.parser\")\n",
        "  tag = soup.find(\"div\" , id = \"info\")\n",
        "  quotes = tag.find(\"ol\")\n",
        "  quote_list = []\n",
        "  for q in quotes:\n",
        "    fq = q.get_text().strip()\n",
        "    quote_list.append(fq)\n",
        "  return quote_list\n",
        "\n",
        "def randamize(quote_list):\n",
        "  r_quote = random.choice(quote_list)\n",
        "  return r_quote\n",
        "\n",
        "\n",
        "quotess = quote_scrape()\n",
        "random_quote = randamize(quotess)\n",
        "print(random_quote)"
      ],
      "metadata": {
        "colab": {
          "base_uri": "https://localhost:8080/"
        },
        "id": "qcAQ_2hbnNWn",
        "outputId": "7ce68a80-6363-4dc5-818b-7275ced4eea9"
      },
      "execution_count": 3,
      "outputs": [
        {
          "output_type": "stream",
          "name": "stdout",
          "text": [
            "\"Before you start some work, always ask yourself three questions - Why am I doing it, What the results might be and Will I be successful. Only when you think deeply and find satisfactory answers to these questions, go ahead.\" — ChanakyaRead more at https://www.brainyquote.com/authors/chanakya-quotes\n"
          ]
        }
      ]
    }
  ]
}